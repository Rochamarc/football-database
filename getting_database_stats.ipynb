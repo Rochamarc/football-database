{
 "cells": [
  {
   "cell_type": "code",
   "execution_count": 1,
   "id": "e66d73bb-e28c-473a-afd5-397cdbfc6256",
   "metadata": {},
   "outputs": [],
   "source": [
    "import mysql.connector"
   ]
  },
  {
   "cell_type": "code",
   "execution_count": 2,
   "id": "bb0aa2e9-e318-4e79-b906-693f74941f5c",
   "metadata": {},
   "outputs": [],
   "source": [
    "database_config = {\n",
    "    \"user\": \"tournament_user\",\n",
    "    \"password\": \"tournament_pass\",\n",
    "    \"host\": \"localhost\",\n",
    "    \"database\": \"football\"\n",
    "}"
   ]
  },
  {
   "cell_type": "code",
   "execution_count": 3,
   "id": "28fe7bb9-b2e4-4697-a263-3a8a094f9abe",
   "metadata": {},
   "outputs": [],
   "source": [
    "select_clubs_count = \"SELECT COUNT(*) FROM clubs;\"\n",
    "select_players_count = \"SELECT COUNT(*) FROM players;\"\n",
    "select_players_contract_count = \"SELECT COUNT(*) FROM players_contract;\""
   ]
  },
  {
   "cell_type": "code",
   "execution_count": 4,
   "id": "6a43e945-291e-4f98-af63-93c2c02a842b",
   "metadata": {},
   "outputs": [],
   "source": [
    "conn = mysql.connector.connect(**database_config)"
   ]
  },
  {
   "cell_type": "code",
   "execution_count": 5,
   "id": "1db60942-226d-46a5-b21c-3f938354a145",
   "metadata": {},
   "outputs": [],
   "source": [
    "cursor = conn.cursor()"
   ]
  },
  {
   "cell_type": "code",
   "execution_count": 6,
   "id": "e73f233e-d2ae-47d9-a02e-46b88b55fb56",
   "metadata": {},
   "outputs": [],
   "source": [
    "cursor.execute(select_clubs_count)"
   ]
  },
  {
   "cell_type": "code",
   "execution_count": 7,
   "id": "34be3d9f-0cda-4b3f-bf16-c79a012c245e",
   "metadata": {},
   "outputs": [
    {
     "data": {
      "text/plain": [
       "[(1263,)]"
      ]
     },
     "execution_count": 7,
     "metadata": {},
     "output_type": "execute_result"
    }
   ],
   "source": [
    "cursor.fetchall()"
   ]
  },
  {
   "cell_type": "code",
   "execution_count": 8,
   "id": "a2ed22ec-d918-44df-b7d6-4a2f483410c9",
   "metadata": {},
   "outputs": [],
   "source": [
    "cursor.execute(select_players_count)"
   ]
  },
  {
   "cell_type": "code",
   "execution_count": 9,
   "id": "5e91146c-50fa-42be-9672-3a2cad109aee",
   "metadata": {},
   "outputs": [
    {
     "data": {
      "text/plain": [
       "[(450000,)]"
      ]
     },
     "execution_count": 9,
     "metadata": {},
     "output_type": "execute_result"
    }
   ],
   "source": [
    "cursor.fetchall()"
   ]
  },
  {
   "cell_type": "code",
   "execution_count": 10,
   "id": "7599b67b-b7a8-4935-aa90-19a67e4b36b9",
   "metadata": {},
   "outputs": [],
   "source": [
    "cursor.execute(select_players_contract_count)"
   ]
  },
  {
   "cell_type": "code",
   "execution_count": 11,
   "id": "6f7c4c90-01c8-49c9-b32a-de4d3078289e",
   "metadata": {},
   "outputs": [
    {
     "data": {
      "text/plain": [
       "[(0,)]"
      ]
     },
     "execution_count": 11,
     "metadata": {},
     "output_type": "execute_result"
    }
   ],
   "source": [
    "cursor.fetchall()"
   ]
  }
 ],
 "metadata": {
  "kernelspec": {
   "display_name": "Python 3 (ipykernel)",
   "language": "python",
   "name": "python3"
  },
  "language_info": {
   "codemirror_mode": {
    "name": "ipython",
    "version": 3
   },
   "file_extension": ".py",
   "mimetype": "text/x-python",
   "name": "python",
   "nbconvert_exporter": "python",
   "pygments_lexer": "ipython3",
   "version": "3.10.12"
  }
 },
 "nbformat": 4,
 "nbformat_minor": 5
}
