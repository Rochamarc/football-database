{
 "cells": [
  {
   "cell_type": "code",
   "execution_count": 1,
   "id": "1dac90be-43b0-46c0-a61b-7f278d2cba33",
   "metadata": {},
   "outputs": [],
   "source": [
    "import mysql.connector"
   ]
  },
  {
   "cell_type": "code",
   "execution_count": 3,
   "id": "2f46fe6d-34b7-4bf5-82fc-e655bf4d76cf",
   "metadata": {},
   "outputs": [],
   "source": [
    "select_brazilian_clubs_query = \"\"\"\n",
    "SELECT clubs.id, clubs.name, clubs.country \n",
    "FROM clubs \n",
    "WHERE clubs.country='Argentina'\n",
    "\"\"\""
   ]
  },
  {
   "cell_type": "code",
   "execution_count": 4,
   "id": "29d0b844-fad3-4f98-b34c-a4b6aec769a8",
   "metadata": {},
   "outputs": [],
   "source": [
    "select_brazilian_argetinian_player_query = \"\"\"\n",
    "SELECT players.id, players.name, players.nationality, \n",
    "players.position, players.birth_year \n",
    "FROM players \n",
    "WHERE \n",
    "players.nationality='Argentina'\n",
    "OR players.nationality='Uruguay'\n",
    "OR players.nationality='Colombia'\n",
    "\"\"\"\n"
   ]
  },
  {
   "cell_type": "code",
   "execution_count": 5,
   "id": "0b0dad7f-9697-4dc0-8f6b-8c9c9301aad6",
   "metadata": {},
   "outputs": [],
   "source": [
    "start_date = '2023'\n",
    "end_date = '2024'\n",
    "salary = 25_000\n",
    "termination_fine = 1_000_000\n",
    "\n",
    "insert_players_contract_query = \"INSERT INTO players_contract VALUES(NULL, %s, %s, NULL, %s, %s, %s, %s)\""
   ]
  },
  {
   "cell_type": "code",
   "execution_count": 6,
   "id": "917d8e6a-88a8-41df-b04c-9e0bcab3e613",
   "metadata": {},
   "outputs": [],
   "source": [
    "database_config = {\n",
    "    'user': 'tournament_user',\n",
    "    'host': 'localhost',\n",
    "    'password': 'tournament_pass',\n",
    "    'database': 'football'\n",
    "}"
   ]
  },
  {
   "cell_type": "code",
   "execution_count": 7,
   "id": "2e186af6-c439-4440-aacc-7bda24cc34e5",
   "metadata": {},
   "outputs": [],
   "source": [
    "conn = mysql.connector.connect(**database_config) # init database and cursor\n",
    "cursor = conn.cursor()"
   ]
  },
  {
   "cell_type": "code",
   "execution_count": 8,
   "id": "4028bc6a-5874-4416-b714-0ae5ff637d02",
   "metadata": {},
   "outputs": [],
   "source": [
    "cursor.execute(select_brazilian_clubs_query) # select brazilian clubs\n",
    "clubs = cursor.fetchall()"
   ]
  },
  {
   "cell_type": "code",
   "execution_count": 9,
   "id": "f879fd31-533e-4b8c-89fc-60d93642b199",
   "metadata": {},
   "outputs": [],
   "source": [
    "cursor.execute(select_brazilian_argetinian_player_query) # select all brazilian and argentinians players\n",
    "players = cursor.fetchall()"
   ]
  },
  {
   "cell_type": "code",
   "execution_count": 10,
   "id": "75737163-9d14-46b3-bd48-12cdfebc995b",
   "metadata": {},
   "outputs": [],
   "source": [
    "all_players = { 'GK': [], 'RB': [], 'CB': [], 'LB': [], 'DM': [], 'CM': [], 'AM': [], 'RM': [], 'LM': [], 'SS': [], 'WG': [], 'CF': [] }"
   ]
  },
  {
   "cell_type": "code",
   "execution_count": 11,
   "id": "141ff28e-c3c6-4c0d-b8aa-f2fa65a8d0d8",
   "metadata": {},
   "outputs": [],
   "source": [
    "for player in players:\n",
    "    all_players[player[3]].append(player)"
   ]
  },
  {
   "cell_type": "code",
   "execution_count": 12,
   "id": "ef352d7a-dceb-4b95-80d6-59d1cfeca250",
   "metadata": {},
   "outputs": [],
   "source": [
    "p_contracts = []"
   ]
  },
  {
   "cell_type": "code",
   "execution_count": 13,
   "id": "768810d8-b327-4a22-88b8-d4d35c64f4c9",
   "metadata": {},
   "outputs": [],
   "source": [
    "for club in clubs:\n",
    "    for position, players in all_players.items():\n",
    "        for _ in range(3):\n",
    "            player = all_players[position].pop()\n",
    "            id_player = player[0] \n",
    "    \n",
    "            id_club = club[0]\n",
    "            p_contracts.append([start_date, end_date, salary, termination_fine, id_club, id_player])"
   ]
  },
  {
   "cell_type": "code",
   "execution_count": 14,
   "id": "b1eabd95-e4a3-453a-87a0-2045388ca5ab",
   "metadata": {},
   "outputs": [],
   "source": [
    "for p in p_contracts:\n",
    "    cursor.execute(insert_players_contract_query, p)"
   ]
  },
  {
   "cell_type": "code",
   "execution_count": 15,
   "id": "bcf0ab9d-8b8c-4a89-b3a7-343c902e459d",
   "metadata": {},
   "outputs": [],
   "source": [
    "conn.commit()"
   ]
  },
  {
   "cell_type": "code",
   "execution_count": 16,
   "id": "16de469e-956e-420b-b919-b76afaca4968",
   "metadata": {},
   "outputs": [],
   "source": [
    "conn.close()"
   ]
  }
 ],
 "metadata": {
  "kernelspec": {
   "display_name": "Python 3 (ipykernel)",
   "language": "python",
   "name": "python3"
  },
  "language_info": {
   "codemirror_mode": {
    "name": "ipython",
    "version": 3
   },
   "file_extension": ".py",
   "mimetype": "text/x-python",
   "name": "python",
   "nbconvert_exporter": "python",
   "pygments_lexer": "ipython3",
   "version": "3.8.0"
  }
 },
 "nbformat": 4,
 "nbformat_minor": 5
}
