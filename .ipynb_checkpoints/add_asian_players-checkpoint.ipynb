{
 "cells": [
  {
   "cell_type": "code",
   "execution_count": 1,
   "id": "dcfcdc14-d222-409f-80c2-917a746f7cf3",
   "metadata": {},
   "outputs": [],
   "source": [
    "import mysql.connector"
   ]
  },
  {
   "cell_type": "code",
   "execution_count": 2,
   "id": "380300c3-95a5-4860-9ba9-c8724687c69a",
   "metadata": {},
   "outputs": [],
   "source": [
    "from queue import Queue"
   ]
  },
  {
   "cell_type": "code",
   "execution_count": 3,
   "id": "56cd1d3e-7e90-413c-8298-918ad054c69d",
   "metadata": {},
   "outputs": [],
   "source": [
    "database_config = {\n",
    "    \"user\": \"tournament_user\",\n",
    "    \"password\": \"tournament_pass\",\n",
    "    \"host\": \"localhost\",\n",
    "    \"database\": \"name_generator\"\n",
    "}"
   ]
  },
  {
   "cell_type": "code",
   "execution_count": 4,
   "id": "c4a9a3a3-ea97-4ea4-9243-857d2d5080ed",
   "metadata": {},
   "outputs": [],
   "source": [
    "conn = mysql.connector.connect(**database_config)\n",
    "cursor = conn.cursor()"
   ]
  },
  {
   "cell_type": "code",
   "execution_count": 5,
   "id": "7e3a18aa-91f7-428f-b49f-d09173339a8f",
   "metadata": {},
   "outputs": [],
   "source": [
    "select_chinese_first_names = \"\"\"\n",
    "SELECT first_names.value \n",
    "FROM first_names\n",
    "INNER JOIN regions\n",
    "    ON regions.id = first_names.id_region\n",
    "WHERE regions.language = 'Chinese';\n",
    "\"\"\"\n",
    "\n",
    "select_chinese_last_names = \"\"\"\n",
    "SELECT last_names.value \n",
    "FROM last_names\n",
    "INNER JOIN regions\n",
    "    ON regions.id = last_names.id_region\n",
    "WHERE regions.language = 'Chinese';\n",
    "\"\"\""
   ]
  },
  {
   "cell_type": "code",
   "execution_count": 6,
   "id": "f75bba72-2771-49e5-a007-ee6eee4c7d5a",
   "metadata": {},
   "outputs": [],
   "source": [
    "cursor.execute(select_chinese_first_names)\n",
    "first_names = cursor.fetchall()"
   ]
  },
  {
   "cell_type": "code",
   "execution_count": 7,
   "id": "dacf0f5a-93af-4b16-b94e-89ebf86979b7",
   "metadata": {},
   "outputs": [],
   "source": [
    "cursor.execute(select_chinese_last_names)\n",
    "last_names = cursor.fetchall()"
   ]
  },
  {
   "cell_type": "code",
   "execution_count": 8,
   "id": "adc109e8-ab4e-409f-ab43-c23573d01f58",
   "metadata": {},
   "outputs": [],
   "source": [
    "from random import choice, triangular, randint"
   ]
  },
  {
   "cell_type": "code",
   "execution_count": 9,
   "id": "2cdf9b1c-e2e5-4dc8-ad51-51ea510fc92b",
   "metadata": {},
   "outputs": [],
   "source": [
    "conn.close()"
   ]
  },
  {
   "cell_type": "code",
   "execution_count": 10,
   "id": "8b82a033-f975-49b7-8b52-ba4400b64a24",
   "metadata": {},
   "outputs": [
    {
     "ename": "IndexError",
     "evalue": "list index out of range",
     "output_type": "error",
     "traceback": [
      "\u001b[0;31m---------------------------------------------------------------------------\u001b[0m",
      "\u001b[0;31mIndexError\u001b[0m                                Traceback (most recent call last)",
      "Cell \u001b[0;32mIn[10], line 1\u001b[0m\n\u001b[0;32m----> 1\u001b[0m \u001b[38;5;124m'\u001b[39m\u001b[38;5;124m \u001b[39m\u001b[38;5;124m'\u001b[39m\u001b[38;5;241m.\u001b[39mjoin([\u001b[43mchoice\u001b[49m\u001b[43m(\u001b[49m\u001b[43mfirst_names\u001b[49m\u001b[43m)\u001b[49m[\u001b[38;5;241m0\u001b[39m]\u001b[38;5;241m.\u001b[39mcapitalize(), choice(last_names)[\u001b[38;5;241m0\u001b[39m]])\n",
      "File \u001b[0;32m/usr/lib/python3.10/random.py:378\u001b[0m, in \u001b[0;36mRandom.choice\u001b[0;34m(self, seq)\u001b[0m\n\u001b[1;32m    376\u001b[0m \u001b[38;5;250m\u001b[39m\u001b[38;5;124;03m\"\"\"Choose a random element from a non-empty sequence.\"\"\"\u001b[39;00m\n\u001b[1;32m    377\u001b[0m \u001b[38;5;66;03m# raises IndexError if seq is empty\u001b[39;00m\n\u001b[0;32m--> 378\u001b[0m \u001b[38;5;28;01mreturn\u001b[39;00m \u001b[43mseq\u001b[49m\u001b[43m[\u001b[49m\u001b[38;5;28;43mself\u001b[39;49m\u001b[38;5;241;43m.\u001b[39;49m\u001b[43m_randbelow\u001b[49m\u001b[43m(\u001b[49m\u001b[38;5;28;43mlen\u001b[39;49m\u001b[43m(\u001b[49m\u001b[43mseq\u001b[49m\u001b[43m)\u001b[49m\u001b[43m)\u001b[49m\u001b[43m]\u001b[49m\n",
      "\u001b[0;31mIndexError\u001b[0m: list index out of range"
     ]
    }
   ],
   "source": [
    "' '.join([choice(first_names)[0].capitalize(), choice(last_names)[0]])"
   ]
  },
  {
   "cell_type": "code",
   "execution_count": null,
   "id": "bd37aff2-5658-4182-83a6-8f1b4d2bf589",
   "metadata": {},
   "outputs": [],
   "source": [
    "n = 200000"
   ]
  },
  {
   "cell_type": "code",
   "execution_count": 58,
   "id": "feda3498-66c7-421d-9252-48dc4d53a938",
   "metadata": {},
   "outputs": [],
   "source": [
    "players = Queue(maxsize = n)\n",
    "\n",
    "for _ in range(n):\n",
    "    name = ' '.join([choice(first_names)[0].capitalize(), choice(last_names)[0]])\n",
    "    nationality = choice(['Korea','China','Japan'])\n",
    "    birth_year = randint(1989,2006)\n",
    "    position = choice(['GK', 'CB', 'RB', 'LB', 'DM', 'CM', 'AM', 'RM', 'LM', 'SS', 'WG', 'CF'])\n",
    "    height = float(\"{:.2f}\".format(triangular(1.50, 1.80)))\n",
    "    weight = float(\"{:.2f}\".format(triangular(60,90)))\n",
    "    foot = choice(['Right','Left'])\n",
    "\n",
    "    players.put([ name, nationality, position, height, weight, foot, birth_year])"
   ]
  },
  {
   "cell_type": "code",
   "execution_count": 52,
   "id": "4d920bd9-93bb-4b2a-b697-f04b573ef4ba",
   "metadata": {},
   "outputs": [],
   "source": [
    "from basic_code import get_db_connector"
   ]
  },
  {
   "cell_type": "code",
   "execution_count": 53,
   "id": "b0d4ab66-e2c8-4da8-9b7e-da3fcedd5afe",
   "metadata": {},
   "outputs": [],
   "source": [
    "conn = get_db_connector()\n",
    "cursor = conn.cursor()"
   ]
  },
  {
   "cell_type": "code",
   "execution_count": 57,
   "id": "c3be8cf4-c45c-471e-afd5-e170e533bcfd",
   "metadata": {},
   "outputs": [],
   "source": [
    "insert_query = \"\"\"\n",
    "INSERT INTO players(name, nationality, position, height, weight, foot, birth_year, retired)\n",
    "VALUES(%s, %s, %s, %s, %s, %s, %s, NULL)\n",
    "\"\"\""
   ]
  },
  {
   "cell_type": "code",
   "execution_count": 59,
   "id": "8e7afcc9-5463-4d0d-92a6-19b34efe5bc1",
   "metadata": {},
   "outputs": [],
   "source": [
    "for _ in range(n):\n",
    "    cursor.execute(insert_query, players.get())\n",
    "conn.commit()"
   ]
  },
  {
   "cell_type": "code",
   "execution_count": 60,
   "id": "6f336585-0548-4b89-900f-ef33eeef62e1",
   "metadata": {},
   "outputs": [],
   "source": [
    "conn.close()"
   ]
  }
 ],
 "metadata": {
  "kernelspec": {
   "display_name": "Python 3 (ipykernel)",
   "language": "python",
   "name": "python3"
  },
  "language_info": {
   "codemirror_mode": {
    "name": "ipython",
    "version": 3
   },
   "file_extension": ".py",
   "mimetype": "text/x-python",
   "name": "python",
   "nbconvert_exporter": "python",
   "pygments_lexer": "ipython3",
   "version": "3.10.12"
  }
 },
 "nbformat": 4,
 "nbformat_minor": 5
}
