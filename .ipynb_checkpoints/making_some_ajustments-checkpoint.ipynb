{
 "cells": [
  {
   "cell_type": "code",
   "execution_count": 1,
   "id": "6aafdd6f-2307-4e1c-b23a-96d5a7adc0aa",
   "metadata": {},
   "outputs": [
    {
     "data": {
      "text/plain": [
       "0"
      ]
     },
     "execution_count": 1,
     "metadata": {},
     "output_type": "execute_result"
    }
   ],
   "source": [
    "# initializing\n",
    "import os\n",
    "\n",
    "os.system('python inserting_players.py')"
   ]
  },
  {
   "cell_type": "code",
   "execution_count": 2,
   "id": "5f1d8406-0113-4687-82f1-d86ceef51140",
   "metadata": {},
   "outputs": [
    {
     "data": {
      "text/plain": [
       "0"
      ]
     },
     "execution_count": 2,
     "metadata": {},
     "output_type": "execute_result"
    }
   ],
   "source": [
    "os.system('python creating_clubs.py')"
   ]
  },
  {
   "cell_type": "code",
   "execution_count": 2,
   "id": "16824303-6956-479b-8807-cb62050880b3",
   "metadata": {},
   "outputs": [
    {
     "name": "stdout",
     "output_type": "stream",
     "text": [
      "4\n"
     ]
    }
   ],
   "source": [
    "from alter_clubs_confederation import get_confederation_id\n",
    "\n",
    "print( get_confederation_id('Africa'))"
   ]
  },
  {
   "cell_type": "code",
   "execution_count": 1,
   "id": "ada71e96-6cb6-4e15-800d-ad56720ff50f",
   "metadata": {},
   "outputs": [],
   "source": [
    "import os\n",
    "from creating_clubs import naming_countries\n",
    "from alter_clubs_confederation import alter_confederations\n",
    "\n",
    "continents = os.listdir('files/clubs')\n",
    "\n",
    "for cont in continents:\n",
    "    continent = naming_countries(cont)\n",
    "    with open(f'list_of_countries_by_continent/{cont}.csv', 'r') as file:\n",
    "        countries = file.readlines()\n",
    "        countries = [ naming_countries(c.replace('\\n','')) for c in countries ]\n",
    "        alter_confederations(continent, countries)"
   ]
  },
  {
   "cell_type": "code",
   "execution_count": null,
   "id": "2723ae55-0eaf-41f4-a953-ed550baa5e31",
   "metadata": {},
   "outputs": [],
   "source": [
    "query = 'SELECT id FROM players'\n",
    "\n",
    "from random import randint\n",
    "import mysql.connector\n",
    "\n",
    "database_config = {\n",
    "    'user': 'tournament_user',\n",
    "    'host': 'localhost',\n",
    "    'password': 'tournament_pass',\n",
    "    'database': 'football'\n",
    "}\n",
    "\n",
    "conn = mysql.connector.connect(**database_config)\n",
    "cursor = conn.cursor()\n",
    "\n",
    "cursor.execute(query)\n",
    "select = cursor.fetchall()\n",
    "\n",
    "for i in select:\n",
    "    id_player = i[0]\n",
    "    overall = randint(50,90)\n",
    "    \n",
    "    query = f'INSERT INTO players_overall VALUES(NULL, 2023, {overall}, {id_player})'\n",
    "    \n",
    "    cursor.execute(query)\n",
    "    conn.commit()\n",
    "    \n",
    "conn.close()"
   ]
  },
  {
   "cell_type": "code",
   "execution_count": null,
   "id": "c77145a3-b768-4a27-aeda-97ee124634fb",
   "metadata": {},
   "outputs": [],
   "source": []
  }
 ],
 "metadata": {
  "kernelspec": {
   "display_name": "Python 3 (ipykernel)",
   "language": "python",
   "name": "python3"
  },
  "language_info": {
   "codemirror_mode": {
    "name": "ipython",
    "version": 3
   },
   "file_extension": ".py",
   "mimetype": "text/x-python",
   "name": "python",
   "nbconvert_exporter": "python",
   "pygments_lexer": "ipython3",
   "version": "3.8.0"
  }
 },
 "nbformat": 4,
 "nbformat_minor": 5
}
