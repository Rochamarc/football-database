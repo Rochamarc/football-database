{
 "cells": [
  {
   "cell_type": "code",
   "execution_count": 28,
   "id": "4eb1e01d-bffe-4c47-9980-42a8e0d05da1",
   "metadata": {},
   "outputs": [],
   "source": [
    "from basic_code import get_db_connector\n",
    "\n",
    "conn = get_db_connector()\n",
    "cursor = conn.cursor()"
   ]
  },
  {
   "cell_type": "code",
   "execution_count": 39,
   "id": "68b6acfc-b466-484d-b0d1-915e5f13c939",
   "metadata": {},
   "outputs": [],
   "source": [
    "query = '''\n",
    "SELECT players_contract.id_player, players_contract.id_club\n",
    "FROM players_contract;\n",
    "'''\n",
    "\n",
    "select_players = \"SELECT players.id FROM players;\"\n",
    "select_clubs = \"SELECT clubs.id FROM clubs;\""
   ]
  },
  {
   "cell_type": "code",
   "execution_count": 40,
   "id": "addb0819-03a7-4fcf-ba2a-7840dfb675ea",
   "metadata": {},
   "outputs": [],
   "source": [
    "cursor.execute(query)\n",
    "brutal = cursor.fetchall() #[(id_player, id_club}, ...]"
   ]
  },
  {
   "cell_type": "code",
   "execution_count": 41,
   "id": "f0831fd2-2eba-4c9f-9d87-a6275daf86e1",
   "metadata": {},
   "outputs": [],
   "source": [
    "players = [ i[0] for i in brutal ]\n",
    "clubs = set([ i[-1] for i in brutal ]) # i dont need duplicates"
   ]
  },
  {
   "cell_type": "code",
   "execution_count": 42,
   "id": "9aede164-0362-46af-9fdd-6f7fe6903ae4",
   "metadata": {},
   "outputs": [],
   "source": [
    "cursor.execute(select_players)\n",
    "players_id = cursor.fetchall()"
   ]
  },
  {
   "cell_type": "code",
   "execution_count": 43,
   "id": "6c434613-28e1-4b65-8a3d-0d205d3db940",
   "metadata": {},
   "outputs": [],
   "source": [
    "cursor.execute(select_clubs)\n",
    "clubs_id = cursor.fetchall()"
   ]
  },
  {
   "cell_type": "code",
   "execution_count": 44,
   "id": "e71e4e51-0958-430e-92b0-356dc9785924",
   "metadata": {},
   "outputs": [],
   "source": [
    "players_id = [ i[0] for i in players_id ]\n",
    "for p in players:\n",
    "    players_id.remove(p)"
   ]
  },
  {
   "cell_type": "code",
   "execution_count": 45,
   "id": "08a5b449-a4d7-4d07-9c69-a71476450c3a",
   "metadata": {},
   "outputs": [],
   "source": [
    "clubs_id = [ i[0] for i in clubs_id ]\n",
    "for c in clubs:\n",
    "    clubs_id.remove(c)"
   ]
  },
  {
   "cell_type": "code",
   "execution_count": 46,
   "id": "ecc79bd0-18b2-4797-a333-fbebf8bb41ca",
   "metadata": {},
   "outputs": [],
   "source": [
    "start_date = '2023'\n",
    "end_date = '2024'\n",
    "salary = 25_000\n",
    "termination_fine = 1_000_000\n",
    "\n",
    "insert_players_contract_query = \"\"\"\n",
    "INSERT INTO players_contract \n",
    "VALUES(NULL, %s, %s, NULL, %s, %s, %s, %s)\n",
    "\"\"\""
   ]
  },
  {
   "cell_type": "code",
   "execution_count": 48,
   "id": "476a0176-8c3b-46ca-8d9f-a82b4354e9e1",
   "metadata": {},
   "outputs": [],
   "source": [
    "import random\n",
    "\n",
    "random.shuffle(players_id)\n",
    "random.shuffle(clubs_id)"
   ]
  },
  {
   "cell_type": "code",
   "execution_count": 50,
   "id": "ea648d0e-e40c-42c5-92f1-b75e3f5d399f",
   "metadata": {},
   "outputs": [],
   "source": [
    "p_data_full = []\n",
    "for i in clubs_id:\n",
    "    club_id = i\n",
    "    p_data = []\n",
    "    for a in range(32):\n",
    "        p_id = players_id.pop()\n",
    "        p_data.append([ start_date, end_date, salary, termination_fine, club_id, p_id])\n",
    "    p_data_full += p_data"
   ]
  },
  {
   "cell_type": "code",
   "execution_count": 52,
   "id": "7b08a7c9-a87b-4510-848c-6ff544fd210a",
   "metadata": {},
   "outputs": [],
   "source": [
    "for p in p_data_full:\n",
    "    cursor.execute(insert_players_contract_query, p)\n",
    "conn.commit()"
   ]
  },
  {
   "cell_type": "code",
   "execution_count": 53,
   "id": "de9e081d-b4e8-48e8-9f60-b4365afaa510",
   "metadata": {},
   "outputs": [],
   "source": [
    "conn.close()"
   ]
  },
  {
   "cell_type": "code",
   "execution_count": null,
   "id": "1dd05b9c-7950-4da3-ae7e-ca01e1d2a42a",
   "metadata": {},
   "outputs": [],
   "source": []
  }
 ],
 "metadata": {
  "kernelspec": {
   "display_name": "Python 3 (ipykernel)",
   "language": "python",
   "name": "python3"
  },
  "language_info": {
   "codemirror_mode": {
    "name": "ipython",
    "version": 3
   },
   "file_extension": ".py",
   "mimetype": "text/x-python",
   "name": "python",
   "nbconvert_exporter": "python",
   "pygments_lexer": "ipython3",
   "version": "3.10.12"
  }
 },
 "nbformat": 4,
 "nbformat_minor": 5
}
