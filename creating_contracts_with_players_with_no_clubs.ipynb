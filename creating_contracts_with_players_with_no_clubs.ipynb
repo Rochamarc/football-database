{
 "cells": [
  {
   "cell_type": "code",
   "execution_count": null,
   "id": "189de389-c4b8-4775-98d9-2784dfd9c0c6",
   "metadata": {},
   "outputs": [],
   "source": [
    "'''\n",
    "This notebook creates 32 contracts for clubs. This contracts are pseudo random, and doesnt presente\n",
    "any form of intelligence, this will literally get all players with no contract and all clubs with no contract\n",
    "and create 32 contracts of players per club.\n",
    "'''"
   ]
  },
  {
   "cell_type": "code",
   "execution_count": 1,
   "id": "4eb1e01d-bffe-4c47-9980-42a8e0d05da1",
   "metadata": {},
   "outputs": [],
   "source": [
    "from basic_code import get_db_connector\n",
    "\n",
    "conn = get_db_connector()\n",
    "cursor = conn.cursor()"
   ]
  },
  {
   "cell_type": "code",
   "execution_count": 6,
   "id": "68b6acfc-b466-484d-b0d1-915e5f13c939",
   "metadata": {},
   "outputs": [],
   "source": [
    "select_players_id = '''\n",
    "SELECT  players.id id\n",
    "FROM players\n",
    "WHERE players.id NOT IN (SELECT id_player FROM players_contract);\n",
    "'''\n",
    "\n",
    "select_clubs_id = '''\n",
    "SELECT  clubs.id id\n",
    "FROM clubs\n",
    "WHERE clubs.id NOT IN (SELECT id_club FROM players_contract);\n",
    "'''"
   ]
  },
  {
   "cell_type": "code",
   "execution_count": 7,
   "id": "addb0819-03a7-4fcf-ba2a-7840dfb675ea",
   "metadata": {},
   "outputs": [],
   "source": [
    "# select the players id with no contract\n",
    "\n",
    "cursor.execute(select_players_id)\n",
    "brutal = cursor.fetchall() #[( id_player }, ...]"
   ]
  },
  {
   "cell_type": "code",
   "execution_count": 8,
   "id": "f0831fd2-2eba-4c9f-9d87-a6275daf86e1",
   "metadata": {},
   "outputs": [],
   "source": [
    "# get the players id only in python list format\n",
    "\n",
    "players = [ i[0] for i in brutal ]"
   ]
  },
  {
   "cell_type": "code",
   "execution_count": 9,
   "id": "9aede164-0362-46af-9fdd-6f7fe6903ae4",
   "metadata": {},
   "outputs": [],
   "source": [
    "# select the clubs id with no contract\n",
    "\n",
    "cursor.execute(select_clubs_id)\n",
    "clubs_id = cursor.fetchall()"
   ]
  },
  {
   "cell_type": "code",
   "execution_count": 45,
   "id": "08a5b449-a4d7-4d07-9c69-a71476450c3a",
   "metadata": {},
   "outputs": [],
   "source": [
    "# get the clubs id only in python list format\n",
    "\n",
    "clubs_id = [ i[0] for i in clubs_id ]"
   ]
  },
  {
   "cell_type": "code",
   "execution_count": 46,
   "id": "ecc79bd0-18b2-4797-a333-fbebf8bb41ca",
   "metadata": {},
   "outputs": [],
   "source": [
    "# Contracts fields \n",
    "\n",
    "start_date = '2023'\n",
    "end_date = '2024'\n",
    "salary = 25_000\n",
    "termination_fine = 1_000_000\n",
    "\n",
    "insert_players_contract_query = \"\"\"\n",
    "INSERT INTO players_contract \n",
    "VALUES(NULL, %s, %s, NULL, %s, %s, %s, %s)\n",
    "\"\"\""
   ]
  },
  {
   "cell_type": "code",
   "execution_count": 48,
   "id": "476a0176-8c3b-46ca-8d9f-a82b4354e9e1",
   "metadata": {},
   "outputs": [],
   "source": [
    "# randomizing the data to create random contracts with random players and random clubs\n",
    "\n",
    "import random\n",
    "\n",
    "random.shuffle(players_id)\n",
    "random.shuffle(clubs_id)"
   ]
  },
  {
   "cell_type": "code",
   "execution_count": 50,
   "id": "ea648d0e-e40c-42c5-92f1-b75e3f5d399f",
   "metadata": {},
   "outputs": [],
   "source": [
    "# Creates a list of list data values to execute as an players_contract query, this create 32 players \n",
    "# for clubs regardless of position or age.\n",
    "\n",
    "p_data_full = []\n",
    "\n",
    "for i in clubs_id:\n",
    "    club_id = i\n",
    "    p_data = []\n",
    "    for a in range(32):\n",
    "        p_id = players_id.pop()\n",
    "        p_data.append([ start_date, end_date, salary, termination_fine, club_id, p_id])\n",
    "    p_data_full += p_data"
   ]
  },
  {
   "cell_type": "code",
   "execution_count": 52,
   "id": "7b08a7c9-a87b-4510-848c-6ff544fd210a",
   "metadata": {},
   "outputs": [],
   "source": [
    "# Insert data into database\n",
    "\n",
    "for p in p_data_full:\n",
    "    cursor.execute(insert_players_contract_query, p)\n",
    "conn.commit()"
   ]
  },
  {
   "cell_type": "code",
   "execution_count": 53,
   "id": "de9e081d-b4e8-48e8-9f60-b4365afaa510",
   "metadata": {},
   "outputs": [],
   "source": [
    "conn.close()"
   ]
  }
 ],
 "metadata": {
  "kernelspec": {
   "display_name": "Python 3 (ipykernel)",
   "language": "python",
   "name": "python3"
  },
  "language_info": {
   "codemirror_mode": {
    "name": "ipython",
    "version": 3
   },
   "file_extension": ".py",
   "mimetype": "text/x-python",
   "name": "python",
   "nbconvert_exporter": "python",
   "pygments_lexer": "ipython3",
   "version": "3.10.12"
  }
 },
 "nbformat": 4,
 "nbformat_minor": 5
}
