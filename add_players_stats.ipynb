{
 "cells": [
  {
   "cell_type": "code",
   "execution_count": 2,
   "id": "587f547e-8347-44be-810c-26cc5292c0e1",
   "metadata": {},
   "outputs": [],
   "source": [
    "import mysql.connector"
   ]
  },
  {
   "cell_type": "code",
   "execution_count": 3,
   "id": "fba13cb7-55ab-450e-8540-4bf1e94433e9",
   "metadata": {},
   "outputs": [],
   "source": [
    "database_config = {\n",
    "    \"user\": \"tournament_user\",\n",
    "    \"password\": \"tournament_pass\",\n",
    "    \"host\": \"localhost\",\n",
    "    \"database\": \"football\"\n",
    "}"
   ]
  },
  {
   "cell_type": "code",
   "execution_count": 4,
   "id": "80ae65bc-3e1b-42ff-b91d-285fe697da20",
   "metadata": {},
   "outputs": [],
   "source": [
    "conn = mysql.connector.connect(**database_config)"
   ]
  },
  {
   "cell_type": "code",
   "execution_count": 5,
   "id": "556c3715-6992-4d17-a80d-a649a98f0b29",
   "metadata": {},
   "outputs": [],
   "source": [
    "cursor = conn.cursor()"
   ]
  },
  {
   "cell_type": "code",
   "execution_count": 6,
   "id": "91ecfa31-015e-4543-8736-b89a731e6f3f",
   "metadata": {},
   "outputs": [],
   "source": [
    "select_season = \"SELECT id FROM seasons;\"\n",
    "select_player_id = \"\"\"\n",
    "SELECT players.id, players.position\n",
    "FROM players\n",
    "INNER JOIN players_contract\n",
    "INNER JOIN clubs\n",
    "    ON players.id = players_contract.id_player\n",
    "    AND clubs.id = players_contract.id_club;\n",
    "\"\"\""
   ]
  },
  {
   "cell_type": "code",
   "execution_count": 7,
   "id": "533243ea-46aa-4596-a6f4-ee295c83ae9c",
   "metadata": {},
   "outputs": [],
   "source": [
    "cursor.execute(select_season)\n",
    "season = cursor.fetchall()"
   ]
  },
  {
   "cell_type": "code",
   "execution_count": 8,
   "id": "c23c2901-dc51-4bf2-8f6e-404425b4cae8",
   "metadata": {},
   "outputs": [],
   "source": [
    "season = season[0][0]"
   ]
  },
  {
   "cell_type": "code",
   "execution_count": 9,
   "id": "c0186612-97f4-41c2-9dff-eec3be1ab5b0",
   "metadata": {},
   "outputs": [],
   "source": [
    "cursor.execute(select_player_id)\n",
    "players_id = cursor.fetchall()"
   ]
  },
  {
   "cell_type": "code",
   "execution_count": 10,
   "id": "39121625-f9cc-4d85-bdc0-8bced5b81d5f",
   "metadata": {},
   "outputs": [],
   "source": [
    "insert_gk_stats = \"INSERT INTO player_stats(matches, defenses, goals_conceded, clean_sheets, id_season, id_player) VALUES(%s, %s, %s, %s, {}, %s);\".format(season)\n",
    "insert_df_stats = \"INSERT INTO player_stats(matches, tackles, clearances, clean_sheets, id_season, id_player) VALUES(%s, %s, %s, %s, {}, %s);\".format(season)\n",
    "insert_at_stats = \"INSERT INTO player_stats(matches, goals, assists, id_season, id_player) VALUES(%s, %s, %s, {}, %s);\".format(season)"
   ]
  },
  {
   "cell_type": "code",
   "execution_count": 11,
   "id": "f94958d8-9e1a-4f16-8901-ecbd518841cc",
   "metadata": {},
   "outputs": [],
   "source": [
    "from random import randint"
   ]
  },
  {
   "cell_type": "code",
   "execution_count": 12,
   "id": "642c7c1c-5165-431b-a2b9-eb69b19e4228",
   "metadata": {},
   "outputs": [],
   "source": [
    "for player in players_id:\n",
    "    if player[-1] == 'GK':\n",
    "        matches = randint(0, 60)\n",
    "        defenses = randint(0, 3*matches)\n",
    "        goals_conceded = randint(0, 3*matches)\n",
    "        clean_sheets = randint(0, matches)\n",
    "        p_data = [matches, defenses, goals_conceded, clean_sheets, player[0]]\n",
    "        cursor.execute(insert_gk_stats, p_data)\n",
    "conn.commit()"
   ]
  },
  {
   "cell_type": "code",
   "execution_count": 13,
   "id": "8dbaf7ca-a9db-4352-a5f9-5ee8417a3b34",
   "metadata": {},
   "outputs": [],
   "source": [
    "for player in players_id:\n",
    "    if player[-1] in ['CB','RB','LB','DM','CM']:\n",
    "        matches = randint(0, 60)\n",
    "        tackles = randint(0, 5*matches)\n",
    "        clearances = randint(0, 5*matches)\n",
    "        clean_sheets = randint(0, matches)\n",
    "        p_data = [matches, tackles, clearances, clean_sheets, player[0]]\n",
    "        cursor.execute(insert_df_stats, p_data)\n",
    "conn.commit()"
   ]
  },
  {
   "cell_type": "code",
   "execution_count": 14,
   "id": "ed586251-aaba-47e7-9e8f-2deb5d5b47c1",
   "metadata": {},
   "outputs": [],
   "source": [
    "for player in players_id:\n",
    "    if player[-1] in ['CF','SS','AM','WG','LM','RM']:\n",
    "        matches = randint(0, 60)\n",
    "        goals = randint(0, 2*matches)\n",
    "        assists = randint(0, matches)\n",
    "        p_data = [matches, goals, assists, player[0]]\n",
    "        cursor.execute(insert_at_stats, p_data)\n",
    "conn.commit()"
   ]
  },
  {
   "cell_type": "code",
   "execution_count": null,
   "id": "2ea47e2f-49b9-484a-a7bb-91fd6826bdaa",
   "metadata": {},
   "outputs": [],
   "source": []
  }
 ],
 "metadata": {
  "kernelspec": {
   "display_name": "Python 3 (ipykernel)",
   "language": "python",
   "name": "python3"
  },
  "language_info": {
   "codemirror_mode": {
    "name": "ipython",
    "version": 3
   },
   "file_extension": ".py",
   "mimetype": "text/x-python",
   "name": "python",
   "nbconvert_exporter": "python",
   "pygments_lexer": "ipython3",
   "version": "3.8.0"
  }
 },
 "nbformat": 4,
 "nbformat_minor": 5
}
