{
 "cells": [
  {
   "cell_type": "code",
   "execution_count": null,
   "id": "ea06d144-e470-4306-aceb-992fdbcca464",
   "metadata": {},
   "outputs": [],
   "source": [
    "''' \n",
    "This notebook will generate a very random data for players \n",
    "with no sense, just brutal data generation for players\n",
    "'''"
   ]
  },
  {
   "cell_type": "code",
   "execution_count": 1,
   "id": "587f547e-8347-44be-810c-26cc5292c0e1",
   "metadata": {},
   "outputs": [],
   "source": [
    "from basic_code import get_db_connector\n",
    "from random import randint"
   ]
  },
  {
   "cell_type": "code",
   "execution_count": 2,
   "id": "80ae65bc-3e1b-42ff-b91d-285fe697da20",
   "metadata": {},
   "outputs": [],
   "source": [
    "# Database connection and configuration\n",
    "\n",
    "\n",
    "conn = get_db_connector()\n",
    "cursor = conn.cursor()"
   ]
  },
  {
   "cell_type": "code",
   "execution_count": 6,
   "id": "91ecfa31-015e-4543-8736-b89a731e6f3f",
   "metadata": {},
   "outputs": [],
   "source": [
    "# Select players with contracts\n",
    "\n",
    "\n",
    "select_player_id = \"\"\"\n",
    "SELECT players.id, players.position\n",
    "FROM players\n",
    "INNER JOIN players_contract\n",
    "INNER JOIN clubs\n",
    "    ON players.id = players_contract.id_player\n",
    "    AND clubs.id = players_contract.id_club;\n",
    "\"\"\""
   ]
  },
  {
   "cell_type": "code",
   "execution_count": 9,
   "id": "c0186612-97f4-41c2-9dff-eec3be1ab5b0",
   "metadata": {},
   "outputs": [],
   "source": [
    "# Select players id\n",
    "\n",
    "\n",
    "cursor.execute(select_player_id)\n",
    "players_id = cursor.fetchall()"
   ]
  },
  {
   "cell_type": "code",
   "execution_count": 10,
   "id": "39121625-f9cc-4d85-bdc0-8bced5b81d5f",
   "metadata": {},
   "outputs": [],
   "source": [
    "# Insert queries\n",
    "\n",
    "\n",
    "insert_gk_stats = \"INSERT INTO player_stats(matches, defenses, goals_conceded, clean_sheets, season, id_player) VALUES(%s, %s, %s, %s, %s, %s);\"\n",
    "insert_df_stats = \"INSERT INTO player_stats(matches, tackles, clearances, clean_sheets, season, id_player) VALUES(%s, %s, %s, %s, %s, %s);\"\n",
    "insert_at_stats = \"INSERT INTO player_stats(matches, goals, assists, season, id_player) VALUES(%s, %s, %s, %s, %s);\""
   ]
  },
  {
   "cell_type": "code",
   "execution_count": 12,
   "id": "642c7c1c-5165-431b-a2b9-eb69b19e4228",
   "metadata": {},
   "outputs": [],
   "source": [
    "# Insert data for goallkeepers\n",
    "\n",
    "\n",
    "for player in players_id:\n",
    "    if player[-1] == 'GK':\n",
    "        matches = randint(0, 60)\n",
    "        defenses = randint(0, 3*matches)\n",
    "        goals_conceded = randint(0, 3*matches)\n",
    "        clean_sheets = randint(0, matches)\n",
    "        p_data = [matches, defenses, goals_conceded, clean_sheets, season, player[0]]\n",
    "        cursor.execute(insert_gk_stats, p_data)"
   ]
  },
  {
   "cell_type": "code",
   "execution_count": 13,
   "id": "8dbaf7ca-a9db-4352-a5f9-5ee8417a3b34",
   "metadata": {},
   "outputs": [],
   "source": [
    "# Insert data for defensive players\n",
    "\n",
    "for player in players_id:\n",
    "    if player[-1] in ['CB','RB','LB','DM','CM']:\n",
    "        matches = randint(0, 60)\n",
    "        tackles = randint(0, 5*matches)\n",
    "        clearances = randint(0, 5*matches)\n",
    "        clean_sheets = randint(0, matches)\n",
    "        p_data = [matches, tackles, clearances, clean_sheets, season, player[0]]\n",
    "        cursor.execute(insert_df_stats, p_data)"
   ]
  },
  {
   "cell_type": "code",
   "execution_count": 14,
   "id": "ed586251-aaba-47e7-9e8f-2deb5d5b47c1",
   "metadata": {},
   "outputs": [],
   "source": [
    "# Insert data for attacking players\n",
    "\n",
    "for player in players_id:\n",
    "    if player[-1] in ['CF','SS','AM','WG','LM','RM']:\n",
    "        matches = randint(0, 60)\n",
    "        goals = randint(0, 2*matches)\n",
    "        assists = randint(0, matches)\n",
    "        p_data = [matches, goals, assists, season, player[0]]\n",
    "        cursor.execute(insert_at_stats, p_data)"
   ]
  },
  {
   "cell_type": "code",
   "execution_count": null,
   "id": "3684139c-a06e-460d-8025-d6e95f93fb03",
   "metadata": {},
   "outputs": [],
   "source": [
    "# Commit & Close\n",
    "\n",
    "conn.commit()\n",
    "conn.close()"
   ]
  }
 ],
 "metadata": {
  "kernelspec": {
   "display_name": "Python 3 (ipykernel)",
   "language": "python",
   "name": "python3"
  },
  "language_info": {
   "codemirror_mode": {
    "name": "ipython",
    "version": 3
   },
   "file_extension": ".py",
   "mimetype": "text/x-python",
   "name": "python",
   "nbconvert_exporter": "python",
   "pygments_lexer": "ipython3",
   "version": "3.10.12"
  }
 },
 "nbformat": 4,
 "nbformat_minor": 5
}
