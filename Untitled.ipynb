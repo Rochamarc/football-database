{
 "cells": [
  {
   "cell_type": "code",
   "execution_count": 1,
   "id": "ca573837-396f-40c1-92f4-de366b16325a",
   "metadata": {},
   "outputs": [],
   "source": [
    "import mysql.connector"
   ]
  },
  {
   "cell_type": "code",
   "execution_count": 2,
   "id": "2bbda329-99ea-4fa5-9c50-9392ad69995b",
   "metadata": {},
   "outputs": [],
   "source": [
    "database_config = {\n",
    "    'host': 'localhost',\n",
    "    'user': 'tournament_user',\n",
    "    'password': 'tournament_pass',\n",
    "    'database': 'football'\n",
    "}\n",
    "\n",
    "selection = \"\"\"\n",
    "SELECT players.position, count(*) \n",
    "FROM clubs \n",
    "INNER JOIN players_contract \n",
    "INNER JOIN players \n",
    "    ON clubs.id = players_contract.id_club \n",
    "    AND players.id = players_contract.id_player\n",
    "WHERE clubs.name = %s\n",
    "GROUP BY (players.position);\n",
    "\"\"\"\n",
    "\n",
    "clubs_selection = \"SELECT clubs.name FROM clubs WHERE clubs.country='Brazil';\""
   ]
  },
  {
   "cell_type": "code",
   "execution_count": 3,
   "id": "b8bbcd56-5531-4d45-973f-19c06638bb73",
   "metadata": {},
   "outputs": [],
   "source": [
    "conn = mysql.connector.connect(**database_config)\n",
    "cursor = conn.cursor()"
   ]
  },
  {
   "cell_type": "code",
   "execution_count": 4,
   "id": "a9f36a8d-de28-458f-8c4a-9454fe7feea0",
   "metadata": {},
   "outputs": [],
   "source": [
    "cursor.execute(clubs_selection)\n",
    "clubs_list = cursor.fetchall()"
   ]
  },
  {
   "cell_type": "code",
   "execution_count": 8,
   "id": "dd6b08be-179a-4e04-81e7-4f9e5874b80a",
   "metadata": {},
   "outputs": [],
   "source": [
    "clubs_list = [ i[0] for i in clubs_list ]"
   ]
  },
  {
   "cell_type": "code",
   "execution_count": 10,
   "id": "03f7d882-a1bf-4cab-8ae7-b5d908aa98cc",
   "metadata": {},
   "outputs": [
    {
     "name": "stdout",
     "output_type": "stream",
     "text": [
      "['América Mineiro', 'Athletico Paranaense', 'Atlético Mineiro', 'Bahia', 'Botafogo', 'Corinthians', 'Coritiba', 'Cruzeiro', 'Cuiabá', 'Flamengo', 'Fluminense', 'Fortaleza', 'Goiás', 'Grêmio', 'Internacional', 'Palmeiras', 'Red Bull Bragantino', 'Santos', 'São Paulo', 'Vasco da Gama']\n"
     ]
    }
   ],
   "source": [
    "print(clubs_list)"
   ]
  },
  {
   "cell_type": "code",
   "execution_count": 13,
   "id": "2f455711-3964-442e-b6b2-f60ab6e0e0cf",
   "metadata": {},
   "outputs": [],
   "source": [
    "clubs = {}\n",
    "\n",
    "for club in clubs_list:\n",
    "    cursor.execute(selection, [club])\n",
    "    clubs[club] = (cursor.fetchall())\n",
    "    "
   ]
  },
  {
   "cell_type": "code",
   "execution_count": 15,
   "id": "8657098c-b116-4d14-838a-a49c90222970",
   "metadata": {},
   "outputs": [],
   "source": [
    "conn.close()"
   ]
  },
  {
   "cell_type": "code",
   "execution_count": 16,
   "id": "799a90c0-b977-4de4-9a7a-fd4eb045ffd9",
   "metadata": {},
   "outputs": [],
   "source": [
    "import pandas as pd"
   ]
  },
  {
   "cell_type": "code",
   "execution_count": 22,
   "id": "94610d5a-597f-4230-93e9-0c55f3ebe82f",
   "metadata": {},
   "outputs": [],
   "source": [
    "columns = [ i[0] for i in clubs['Fluminense'] ]\n",
    "columns.insert(0, 'Club')"
   ]
  },
  {
   "cell_type": "code",
   "execution_count": 30,
   "id": "94b2254e-a3a8-44d3-ac2b-71c5af33d80c",
   "metadata": {},
   "outputs": [],
   "source": [
    "rows = []\n",
    "for club_name, club_data in clubs.items():\n",
    "    row = [ club_name ]\n",
    "    for cd in club_data:\n",
    "        row.append(cd[-1])\n",
    "\n",
    "    rows.append(row)"
   ]
  },
  {
   "cell_type": "code",
   "execution_count": 26,
   "id": "4c25ac82-fdac-4c9e-a2ff-c3d73e078ad3",
   "metadata": {},
   "outputs": [],
   "source": [
    "df = pd.DataFrame(rows, columns=columns, index=None)"
   ]
  },
  {
   "cell_type": "code",
   "execution_count": 31,
   "id": "15d85114-472f-4815-8274-4e8008397262",
   "metadata": {},
   "outputs": [
    {
     "name": "stdout",
     "output_type": "stream",
     "text": [
      "                    Club  AM  CB  CF  CM  DM  GK  LB  LM  RB  RM   SS   WG\n",
      "0        América Mineiro   3   2   1   3   3   2   7   2   3   1  3.0  0.0\n",
      "1   Athletico Paranaense   4   5   1   2   2   2   1   2   2   2  6.0  1.0\n",
      "2       Atlético Mineiro   4   5   2   2   2   3   5   2   2   3  0.0  0.0\n",
      "3                  Bahia   2   4   1   2   3   2   3   2   2   5  2.0  2.0\n",
      "4               Botafogo   6   4   2   1   2   1   3   3   4   2  2.0  0.0\n",
      "5            Corinthians   1   6   3   2   1   2   5   4   4   1  1.0  0.0\n",
      "6               Coritiba   1   3   5   3   6   2   3   3   3   1  0.0  0.0\n",
      "7               Cruzeiro   1   3   2   3   3   3   2   1   2   4  3.0  3.0\n",
      "8                 Cuiabá   3   8   1   1   1   3   2   6   2   3  0.0  0.0\n",
      "9               Flamengo   2   1   1   3   1   6   3   2   4   2  5.0  0.0\n",
      "10            Fluminense   4   4   6   1   1   1   4   1   2   2  3.0  1.0\n",
      "11             Fortaleza   1   6   4   1   3   3   4   4   3   1  0.0  0.0\n",
      "12                 Goiás   4   2   2   3   1   5   5   3   3   2  0.0  0.0\n",
      "13                Grêmio   2   1   5   2   4   4   2   3   1   5  1.0  0.0\n",
      "14         Internacional   4   3   5   1   4   2   2   4   2   3  0.0  0.0\n",
      "15             Palmeiras   1   4   2   4   3   2   5   2   3   4  0.0  0.0\n",
      "16   Red Bull Bragantino   4   3   5   2   1   1   5   2   3   1  3.0  0.0\n",
      "17                Santos   2   4   4   1   7   4   3   1   1   2  1.0  0.0\n",
      "18             São Paulo   2   6   2   2   2   1   2   5   3   3  1.0  1.0\n",
      "19         Vasco da Gama   3   4   2   1   4   4   1   1   4   2  4.0  0.0\n"
     ]
    }
   ],
   "source": [
    "print(df.fillna(0))"
   ]
  },
  {
   "cell_type": "code",
   "execution_count": null,
   "id": "4fc4eede-ed2a-4f56-919b-0dbf49db5a3b",
   "metadata": {},
   "outputs": [],
   "source": []
  }
 ],
 "metadata": {
  "kernelspec": {
   "display_name": "Python 3 (ipykernel)",
   "language": "python",
   "name": "python3"
  },
  "language_info": {
   "codemirror_mode": {
    "name": "ipython",
    "version": 3
   },
   "file_extension": ".py",
   "mimetype": "text/x-python",
   "name": "python",
   "nbconvert_exporter": "python",
   "pygments_lexer": "ipython3",
   "version": "3.8.0"
  }
 },
 "nbformat": 4,
 "nbformat_minor": 5
}
