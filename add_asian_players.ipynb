{
 "cells": [
  {
   "cell_type": "code",
   "execution_count": 11,
   "id": "dcfcdc14-d222-409f-80c2-917a746f7cf3",
   "metadata": {},
   "outputs": [],
   "source": [
    "import mysql.connector"
   ]
  },
  {
   "cell_type": "code",
   "execution_count": 19,
   "id": "56cd1d3e-7e90-413c-8298-918ad054c69d",
   "metadata": {},
   "outputs": [],
   "source": [
    "database_config = {\n",
    "    \"user\": \"tournament_user\",\n",
    "    \"password\": \"tournament_pass\",\n",
    "    \"host\": \"localhost\",\n",
    "    \"database\": \"name_generator\"\n",
    "}"
   ]
  },
  {
   "cell_type": "code",
   "execution_count": 20,
   "id": "c4a9a3a3-ea97-4ea4-9243-857d2d5080ed",
   "metadata": {},
   "outputs": [],
   "source": [
    "conn = mysql.connector.connect(**database_config)\n",
    "cursor = conn.cursor()"
   ]
  },
  {
   "cell_type": "code",
   "execution_count": 24,
   "id": "7e3a18aa-91f7-428f-b49f-d09173339a8f",
   "metadata": {},
   "outputs": [],
   "source": [
    "select_chinese_first_names = \"\"\"\n",
    "SELECT first_names.value \n",
    "FROM first_names\n",
    "INNER JOIN regions\n",
    "    ON regions.id = first_names.id_region\n",
    "WHERE regions.language = 'Chinese';\n",
    "\"\"\"\n",
    "\n",
    "select_chinese_last_names = \"\"\"\n",
    "SELECT last_names.value \n",
    "FROM last_names\n",
    "INNER JOIN regions\n",
    "    ON regions.id = last_names.id_region\n",
    "WHERE regions.language = 'Chinese';\n",
    "\"\"\""
   ]
  },
  {
   "cell_type": "code",
   "execution_count": 25,
   "id": "f75bba72-2771-49e5-a007-ee6eee4c7d5a",
   "metadata": {},
   "outputs": [],
   "source": [
    "cursor.execute(select_chinese_first_names)\n",
    "first_names = cursor.fetchall()"
   ]
  },
  {
   "cell_type": "code",
   "execution_count": 26,
   "id": "dacf0f5a-93af-4b16-b94e-89ebf86979b7",
   "metadata": {},
   "outputs": [],
   "source": [
    "cursor.execute(select_chinese_last_names)\n",
    "last_names = cursor.fetchall()"
   ]
  },
  {
   "cell_type": "code",
   "execution_count": 43,
   "id": "adc109e8-ab4e-409f-ab43-c23573d01f58",
   "metadata": {},
   "outputs": [],
   "source": [
    "from random import choice, triangular, randint"
   ]
  },
  {
   "cell_type": "code",
   "execution_count": 33,
   "id": "2cdf9b1c-e2e5-4dc8-ad51-51ea510fc92b",
   "metadata": {},
   "outputs": [],
   "source": [
    "conn.close()"
   ]
  },
  {
   "cell_type": "code",
   "execution_count": 41,
   "id": "8b82a033-f975-49b7-8b52-ba4400b64a24",
   "metadata": {},
   "outputs": [
    {
     "data": {
      "text/plain": [
       "'Yong Phan'"
      ]
     },
     "execution_count": 41,
     "metadata": {},
     "output_type": "execute_result"
    }
   ],
   "source": [
    "' '.join([choice(first_names)[0].capitalize(), choice(last_names)[0]])"
   ]
  },
  {
   "cell_type": "code",
   "execution_count": 58,
   "id": "feda3498-66c7-421d-9252-48dc4d53a938",
   "metadata": {},
   "outputs": [],
   "source": [
    "players = []\n",
    "for _ in range(200000):\n",
    "    name = ' '.join([choice(first_names)[0].capitalize(), choice(last_names)[0]])\n",
    "    nationality = choice(['Korean','Chinese','Japanese'])\n",
    "    birth_year = randint(1989,2006)\n",
    "    position = choice(['GK', 'CB', 'RB', 'LB', 'DM', 'CM', 'AM', 'RM', 'LM', 'SS', 'WG', 'CF'])\n",
    "    height = float(\"{:.2f}\".format(triangular(1.50, 1.80)))\n",
    "    weight = float(\"{:.2f}\".format(triangular(60,90)))\n",
    "    foot = choice(['Right','Left'])\n",
    "\n",
    "    players.append([ name, nationality, position, height, weight, foot, birth_year])"
   ]
  },
  {
   "cell_type": "code",
   "execution_count": 52,
   "id": "4d920bd9-93bb-4b2a-b697-f04b573ef4ba",
   "metadata": {},
   "outputs": [],
   "source": [
    "from basic_code import get_db_connector"
   ]
  },
  {
   "cell_type": "code",
   "execution_count": 53,
   "id": "b0d4ab66-e2c8-4da8-9b7e-da3fcedd5afe",
   "metadata": {},
   "outputs": [],
   "source": [
    "conn = get_db_connector()\n",
    "cursor = conn.cursor()"
   ]
  },
  {
   "cell_type": "code",
   "execution_count": 57,
   "id": "c3be8cf4-c45c-471e-afd5-e170e533bcfd",
   "metadata": {},
   "outputs": [],
   "source": [
    "insert_query = \"\"\"\n",
    "INSERT INTO players(name, nationality, position, height, weight, foot, birth_year, retired)\n",
    "VALUES(%s, %s, %s, %s, %s, %s, %s, NULL)\n",
    "\"\"\""
   ]
  },
  {
   "cell_type": "code",
   "execution_count": 59,
   "id": "8e7afcc9-5463-4d0d-92a6-19b34efe5bc1",
   "metadata": {},
   "outputs": [],
   "source": [
    "for player in players:\n",
    "    cursor.execute(insert_query, player)\n",
    "conn.commit()"
   ]
  },
  {
   "cell_type": "code",
   "execution_count": 60,
   "id": "6f336585-0548-4b89-900f-ef33eeef62e1",
   "metadata": {},
   "outputs": [],
   "source": [
    "conn.close()"
   ]
  }
 ],
 "metadata": {
  "kernelspec": {
   "display_name": "Python 3 (ipykernel)",
   "language": "python",
   "name": "python3"
  },
  "language_info": {
   "codemirror_mode": {
    "name": "ipython",
    "version": 3
   },
   "file_extension": ".py",
   "mimetype": "text/x-python",
   "name": "python",
   "nbconvert_exporter": "python",
   "pygments_lexer": "ipython3",
   "version": "3.10.12"
  }
 },
 "nbformat": 4,
 "nbformat_minor": 5
}
