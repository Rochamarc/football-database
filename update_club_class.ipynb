{
 "cells": [
  {
   "cell_type": "code",
   "execution_count": 1,
   "id": "4fc4eede-ed2a-4f56-919b-0dbf49db5a3b",
   "metadata": {},
   "outputs": [],
   "source": [
    "from basic_code import get_db_connector"
   ]
  },
  {
   "cell_type": "code",
   "execution_count": 2,
   "id": "2cee9d60-8b19-434b-81be-0d9c6aed3c4e",
   "metadata": {},
   "outputs": [],
   "source": [
    "conn = get_db_connector()"
   ]
  },
  {
   "cell_type": "code",
   "execution_count": 3,
   "id": "82deef74-7d95-465e-a03d-ecc9f5c14313",
   "metadata": {},
   "outputs": [],
   "source": [
    "cursor = conn.cursor()"
   ]
  },
  {
   "cell_type": "code",
   "execution_count": 4,
   "id": "fdd5ea87-994a-44aa-9e80-b392f8c68806",
   "metadata": {},
   "outputs": [],
   "source": [
    "top_classes = ['A','B','C']\n",
    "second_classes = ['B','C','D']\n",
    "third_classes = ['D','E','F']"
   ]
  },
  {
   "cell_type": "code",
   "execution_count": 7,
   "id": "cf71aaa8-903f-4311-b96c-cd9893b8f7ae",
   "metadata": {},
   "outputs": [],
   "source": [
    "select_clubs_id = \"\"\"\n",
    "SELECT clubs.id\n",
    "FROM clubs\n",
    "INNER JOIN international_confederations\n",
    "    ON international_confederations.id=clubs.id_international_confederation\n",
    "WHERE international_confederations.name=%s;\n",
    "\"\"\"\n",
    "\n",
    "update_query = \"UPDATE clubs SET clubs.class=%s WHERE clubs.id=%s;\""
   ]
  },
  {
   "cell_type": "code",
   "execution_count": 8,
   "id": "ddf2d7f0-649d-4299-b758-9b658afb6cd4",
   "metadata": {},
   "outputs": [],
   "source": [
    "from random import choice"
   ]
  },
  {
   "cell_type": "code",
   "execution_count": 14,
   "id": "5cc521b8-05d7-463a-9c32-210328962d61",
   "metadata": {},
   "outputs": [],
   "source": [
    "cursor.execute(select_clubs_id, ['CONMEBOL'])\n",
    "clubs_id = cursor.fetchall()\n",
    "\n",
    "for club in clubs_id:\n",
    "    cls = choice(top_classes)\n",
    "    cursor.execute(update_query, [cls, club[0]])\n",
    "conn.commit()"
   ]
  },
  {
   "cell_type": "code",
   "execution_count": 15,
   "id": "263ab048-61e1-4499-9591-3618a7c955eb",
   "metadata": {},
   "outputs": [],
   "source": [
    "cursor.execute(select_clubs_id, ['UEFA'])\n",
    "clubs_id = cursor.fetchall()\n",
    "\n",
    "for club in clubs_id:\n",
    "    cls = choice(top_classes)\n",
    "    cursor.execute(update_query, [cls, club[0]])\n",
    "conn.commit()"
   ]
  },
  {
   "cell_type": "code",
   "execution_count": 16,
   "id": "ec683085-d924-40bb-bc25-70a6b032839c",
   "metadata": {},
   "outputs": [],
   "source": [
    "cursor.execute(select_clubs_id, ['CONCACAF'])\n",
    "clubs_id = cursor.fetchall()\n",
    "\n",
    "for club in clubs_id:\n",
    "    cls = choice(third_classes)\n",
    "    cursor.execute(update_query, [cls, club[0]])\n",
    "conn.commit()"
   ]
  },
  {
   "cell_type": "code",
   "execution_count": 17,
   "id": "c1d4ed43-a56d-446f-9a94-1e51ba5faf75",
   "metadata": {},
   "outputs": [],
   "source": [
    "cursor.execute(select_clubs_id, ['CAF'])\n",
    "clubs_id = cursor.fetchall()\n",
    "\n",
    "for club in clubs_id:\n",
    "    cls = choice(third_classes)\n",
    "    cursor.execute(update_query, [cls, club[0]])\n",
    "conn.commit()"
   ]
  },
  {
   "cell_type": "code",
   "execution_count": 18,
   "id": "9115c936-d084-498c-bbf6-e5601dafec8b",
   "metadata": {},
   "outputs": [],
   "source": [
    "cursor.execute(select_clubs_id, ['AFC'])\n",
    "clubs_id = cursor.fetchall()\n",
    "\n",
    "for club in clubs_id:\n",
    "    cls = choice(third_classes)\n",
    "    cursor.execute(update_query, [cls, club[0]])\n",
    "conn.commit()"
   ]
  },
  {
   "cell_type": "code",
   "execution_count": 19,
   "id": "cfbf404f-7c98-4f74-821d-0c79a3525740",
   "metadata": {},
   "outputs": [],
   "source": [
    "cursor.execute(select_clubs_id, ['OFC'])\n",
    "clubs_id = cursor.fetchall()\n",
    "\n",
    "for club in clubs_id:\n",
    "    cls = choice(third_classes)\n",
    "    cursor.execute(update_query, [cls, club[0]])\n",
    "conn.commit()"
   ]
  },
  {
   "cell_type": "code",
   "execution_count": 20,
   "id": "3e8aef7b-eb22-4a1b-bec5-de0b0142a0d0",
   "metadata": {},
   "outputs": [],
   "source": [
    "conn.close()"
   ]
  }
 ],
 "metadata": {
  "kernelspec": {
   "display_name": "Python 3 (ipykernel)",
   "language": "python",
   "name": "python3"
  },
  "language_info": {
   "codemirror_mode": {
    "name": "ipython",
    "version": 3
   },
   "file_extension": ".py",
   "mimetype": "text/x-python",
   "name": "python",
   "nbconvert_exporter": "python",
   "pygments_lexer": "ipython3",
   "version": "3.10.12"
  }
 },
 "nbformat": 4,
 "nbformat_minor": 5
}
